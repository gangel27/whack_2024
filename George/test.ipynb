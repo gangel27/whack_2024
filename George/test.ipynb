{
 "cells": [
  {
   "cell_type": "code",
   "execution_count": 7,
   "metadata": {},
   "outputs": [
    {
     "data": {
      "text/plain": [
       "['Unnamed: 0',\n",
       " 'Opposition',\n",
       " 'Distance',\n",
       " 'HSR',\n",
       " 'Sprint',\n",
       " 'Accelerations',\n",
       " 'Decelerations',\n",
       " 'Jumps',\n",
       " 'match_id',\n",
       " 'season_name',\n",
       " 'team',\n",
       " 'opposition_team',\n",
       " 'goals_scored',\n",
       " 'goals_conceded',\n",
       " 'np_xg',\n",
       " 'np_xg_conceded',\n",
       " 'shots',\n",
       " 'shots_on_target',\n",
       " 'opposition_shots',\n",
       " 'opposition_shots_on_target',\n",
       " 'passes',\n",
       " 'opposition_passes',\n",
       " 'completed_passes_into_the_box',\n",
       " 'pressures',\n",
       " 'pressure_regains',\n",
       " 'fouls',\n",
       " 'tackles',\n",
       " 'yellow_cards',\n",
       " 'xg_within_8_seconds_of_corner',\n",
       " 'xg_conceded_within_8_seconds_of_corner',\n",
       " 'shots_within_8_seconds_of_corner',\n",
       " 'shots_conceded_within_8_seconds_of_corner',\n",
       " 'goals_within_8_seconds_of_corner',\n",
       " 'goals_conceded_within_8_seconds_of_corner',\n",
       " 'xg_within_8_seconds_of_indirect_free_kick',\n",
       " 'xg_conceded_within_8_seconds_of_indirect_free_kick',\n",
       " 'shots_within_8_seconds_of_indirect_free_kick',\n",
       " 'shots_conceded_within_8_seconds_of_indirect_free_kick',\n",
       " 'goals_within_8_seconds_of_indirect_free_kick',\n",
       " 'goals_conceded_within_8_seconds_of_indirect_free_kick',\n",
       " 'possession',\n",
       " 'final_third_possession',\n",
       " 'ppda',\n",
       " 'completed_passes_and_carries_into_final_third',\n",
       " 'match_outcome',\n",
       " 'date',\n",
       " 'monte_carlo_win_prob',\n",
       " 'monte_carlo_draw_prob',\n",
       " 'monte_carlo_loss_prob',\n",
       " 'location',\n",
       " 'lineup']"
      ]
     },
     "execution_count": 7,
     "metadata": {},
     "output_type": "execute_result"
    }
   ],
   "source": [
    "import pandas as pd \n",
    "\n",
    "data = pd.read_csv('../data/CCFC_match_lineups_data.csv')\n",
    "data.head()\n",
    "list(data.columns.values)"
   ]
  }
 ],
 "metadata": {
  "kernelspec": {
   "display_name": "Python 3",
   "language": "python",
   "name": "python3"
  },
  "language_info": {
   "codemirror_mode": {
    "name": "ipython",
    "version": 3
   },
   "file_extension": ".py",
   "mimetype": "text/x-python",
   "name": "python",
   "nbconvert_exporter": "python",
   "pygments_lexer": "ipython3",
   "version": "3.10.13"
  }
 },
 "nbformat": 4,
 "nbformat_minor": 2
}
